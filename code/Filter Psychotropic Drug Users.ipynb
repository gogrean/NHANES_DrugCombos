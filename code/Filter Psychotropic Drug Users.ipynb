{
 "cells": [
  {
   "cell_type": "markdown",
   "metadata": {},
   "source": [
    "## Filter Psychotropic Drug Users"
   ]
  },
  {
   "cell_type": "markdown",
   "metadata": {},
   "source": [
    "The project uses [NHANES Survey](https://www.cdc.gov/nchs/nhanes/index.htm) data between 2001 and 2014. The information is saved into multiple files, e.g. the demographic data is in one file, while the data about prescription medication taken by respondents is in another. This notebook gathers in one file the information about prescription medication taken by respondents who take at least one psychotropic medication. This step is done to avoid the time-consuming step of filtering the dataframes each time the analysis is run."
   ]
  },
  {
   "cell_type": "markdown",
   "metadata": {},
   "source": [
    "The file containing the filtered data has the following fields:\n",
    "* SEQN: Respondent ID\n",
    "* RXDDRUG: Generic drug name\n",
    "* RXDDRGID: Generic drug code\n",
    "* RXDDCN1A - RXDDCN1C: Multum drug therapeutic category names\n",
    "* GENDER: Gender, with 1 male and 2 female; NaN - missing\n",
    "* AGE: Age, between 0 and 80 (respondents older than 80 years old have their age listed as 80)"
   ]
  },
  {
   "cell_type": "code",
   "execution_count": 1,
   "metadata": {
    "collapsed": true
   },
   "outputs": [],
   "source": [
    "import os, glob\n",
    "import warnings\n",
    "import numpy as np\n",
    "import pandas as pd\n",
    "\n",
    "# avoids unnecessary warnings about the use of .loc when \n",
    "# editing Pandas dataframes\n",
    "pd.options.mode.chained_assignment = None  # default='warn'"
   ]
  },
  {
   "cell_type": "markdown",
   "metadata": {},
   "source": [
    "The <code>data</code> directory contains subdirectories for data taken between 2001-2002, 2003-2004, 2005-2006, 2007-2008, 2009-2010, 2011-2012, and 2013-2014. Each of these subdirectories contains three <code>.csv</code> files: \n",
    "* <code>RXQ\\_RX_*</code>: information on prescription medication taken by respondents;\n",
    "* <code>DEMO\\_*</code>: demographic information.\n",
    "\n",
    "The <code>data</code> directory also contains a file named <code>RXQ\\_DRUG.csv</code>, which has information about the individual drugs and the drug categories they belong to."
   ]
  },
  {
   "cell_type": "code",
   "execution_count": 2,
   "metadata": {
    "collapsed": false
   },
   "outputs": [],
   "source": [
    "root_dir = \"/Users/gogrean/Documents/Insight_Fellowship/Research/Mental_Health/NHANES_Survey/\"\n",
    "data_dir = root_dir + \"data/\"\n",
    "os.chdir(data_dir)\n",
    "\n",
    "med_files = zip(sorted(glob.glob(\"????-????/RXQ_RX_*.csv\")),\n",
    "                sorted(glob.glob(\"????-????/DEMO_*.csv\")))"
   ]
  },
  {
   "cell_type": "markdown",
   "metadata": {},
   "source": [
    "The information from the different files is read in, avoiding columns that are irrelevant for the analysis. The information about prescription drugs (in <code>RXQ\\_DRUG.csv</code>) is standard and does not change from year to year. The data in the other seven pairs of files is concatenated to create two large dataframes: one containing all the demographic information and the other containing all the information on prescription medication taken by the participants."
   ]
  },
  {
   "cell_type": "code",
   "execution_count": 3,
   "metadata": {
    "collapsed": false
   },
   "outputs": [],
   "source": [
    "# Only these columns are used in the analysis.\n",
    "cols_m = [\"SEQN\", \"RXDDRUG\", \"RXDDRGID\"]\n",
    "cols_demo = [\"SEQN\", \"RIAGENDR\", \"RIDAGEYR\", \"RIDAGEMN\"]\n",
    "cols_m_info = [\"RXDDRGID\", \"RXDDCN1A\", \"RXDDCN1B\", \"RXDDCN1C\"]\n",
    "\n",
    "# Setting error_bad_lines and warn_bad_lines to False avoids some\n",
    "# errors and warnings caused by entries written in the incorrect \n",
    "# fields (e.g. the dataframe has 14 columns, but in some files data\n",
    "# is entered in a 15th or a 16th column by mistake; setting these \n",
    "# keywords to False will only read the first 14 columns, which \n",
    "# requires some later hacking to deal with incorrect entries).\n",
    "m_info_df = pd.read_csv(\"RXQ_DRUG.csv\", usecols=cols_m_info, \n",
    "                        error_bad_lines=False, warn_bad_lines=False)\n",
    "\n",
    "m_dfs = []\n",
    "demo_dfs = []\n",
    "for m, demo in med_files:\n",
    "    new_m_df = pd.read_csv(m, error_bad_lines=False, warn_bad_lines=False, usecols=cols_m, \n",
    "                         dtype={\"SEQN\": int, \"RXDDRUG\": str, \"RXDDRGID\": str})\n",
    "    new_demo_df = pd.read_csv(demo, usecols=cols_demo)\n",
    "    m_dfs.append(new_m_df)\n",
    "    demo_dfs.append(new_demo_df)\n",
    "    \n",
    "m_df = pd.concat(m_dfs, ignore_index=True)\n",
    "m_df.dropna(inplace=True)\n",
    "demo_df = pd.concat(demo_dfs, ignore_index=True)"
   ]
  },
  {
   "cell_type": "markdown",
   "metadata": {},
   "source": [
    "Next I get a list of psychotropic medication that appears in the Survey. I choose to use all drugs classified as PSYCHOTHERAPEUTIC AGENTS as well as anti-anxiety drugs (classified as CENTRAL NERVOUS SYSTEM AGENTS -> ANXIOLYTICS). Each drug has a unique RXDDRGID identifier, which links the dataframe containing the prescription medication to the dataframe containing the drug information. Therefore, to find patients using psychotropic medication, I create a set of all the unique drug codes."
   ]
  },
  {
   "cell_type": "code",
   "execution_count": 4,
   "metadata": {
    "collapsed": false
   },
   "outputs": [],
   "source": [
    "filtered_m_info_df = m_info_df[(m_info_df[\"RXDDCN1A\"] == \"PSYCHOTHERAPEUTIC AGENTS\") |\n",
    "                               (m_info_df[\"RXDDCN1B\"] == \"ANXIOLYTICS\")]\n",
    "unique_psychotropic_rxddrgid = set(filtered_m_info_df[\"RXDDRGID\"])"
   ]
  },
  {
   "cell_type": "markdown",
   "metadata": {},
   "source": [
    "With the codes of the psychotropic drugs in hand, I can find the users who take at least one of these drugs. The filtered list of SEQN identifiers will be used to gather data for the relavant users into a single dataframe that will be later saved to a new <code>.csv</code> file."
   ]
  },
  {
   "cell_type": "code",
   "execution_count": 5,
   "metadata": {
    "collapsed": false
   },
   "outputs": [],
   "source": [
    "# This is the hack that deals with information that was\n",
    "# entered in the incorrect fields (by being mistakenly\n",
    "# shifted by 1-2 columns). This mistake affects only the\n",
    "# RXDDRGID field. Normally, drug codes consist of a letter \n",
    "# followed by a numerical sequence. However, in rows where\n",
    "# information was shifted, drug codes appear as integers\n",
    "# (because data from the previous columns is of type int).\n",
    "# So to identify incorrect RXDDRGID entries, I check whether\n",
    "# the entry is of type int; if it is, then the entry is \n",
    "# incorrect, otherwise correct.\n",
    "def is_wrong_col(rx_id):\n",
    "    try:\n",
    "        int(rx_id)\n",
    "    except ValueError:\n",
    "        return False\n",
    "    return True\n",
    "\n",
    "filtered_seqn = []\n",
    "for s in m_df[\"SEQN\"].unique():\n",
    "    ignore_this_seqn = False\n",
    "    # Find the codes of all the drugs taken by a participant\n",
    "    # with a certain SEQN.\n",
    "    rxd_ids = set(m_df[m_df[\"SEQN\"] == s][\"RXDDRGID\"])\n",
    "    # Go through the drug codes and check that none of them \n",
    "    # is of type int (see hacky function above).\n",
    "    for rx_id in rxd_ids:\n",
    "        if is_wrong_col(rx_id):\n",
    "            ignore_this_seqn = True\n",
    "            break\n",
    "    # If any of the drugs taken by the participant with this\n",
    "    # SEQN has an incorrect code, the data for this participant\n",
    "    # is ignored. Otherwise, the SEQN of the participants is \n",
    "    # added to the set of SEQNs that are considered in the \n",
    "    # analysis.\n",
    "    if not ignore_this_seqn:\n",
    "        if rxd_ids.intersection(unique_psychotropic_rxddrgid):\n",
    "            filtered_seqn.append(s)"
   ]
  },
  {
   "cell_type": "code",
   "execution_count": 6,
   "metadata": {
    "collapsed": false
   },
   "outputs": [],
   "source": [
    "# First step filtering to exclude respondents whose SEQN is \n",
    "# not in the list of filtered SEQNs.\n",
    "filtered_m_df = m_df[m_df[\"SEQN\"].isin(filtered_seqn)]\n",
    "\n",
    "# For each row in the dataframe filtered above...\n",
    "for index, row in filtered_m_df.iterrows():\n",
    "    # (1) find the RXDDRGID of the medication in the row;\n",
    "    # (2) determine the medication categories (RXDDCN1A-RXDDCN1C) \n",
    "    # that the RXDDRGID corresponds to using the drug info file\n",
    "    # (3) set the medication categories in the filtered dataframe;\n",
    "    for keyword in [\"RXDDCN1A\", \"RXDDCN1B\", \"RXDDCN1C\"]:\n",
    "        filtered_m_df.loc[index, keyword] = m_info_df[m_info_df[\"RXDDRGID\"] == row[\"RXDDRGID\"]][keyword].values[0]\n",
    "    # (4) set the gender using data from the demographic file, which \n",
    "    # is linked to the prescription drug data via the SEQN keyword;\n",
    "    filtered_m_df.loc[index, \"GENDER\"] = demo_df[demo_df[\"SEQN\"] == row[\"SEQN\"]][\"RIAGENDR\"].values[0]\n",
    "    # (5) set the age of the respondent using data from the \n",
    "    # demographic file\n",
    "    # NOTE: The column RIDAGEMN has the age in months, which is more accurate \n",
    "    # than the age in years (RIDAGEYR) as RIDAGEYR is an integer. However, \n",
    "    # RIDAGEMN is sometimes empty, so it can't be used to calculate the age; \n",
    "    # in these cases, the age in years is used from the RIDAGEYR field.\n",
    "    try:\n",
    "        age = int(demo_df[demo_df[\"SEQN\"] == row[\"SEQN\"]][\"RIDAGEMN\"].values[0]) / 12.\n",
    "    except ValueError:\n",
    "        age = int(demo_df[demo_df[\"SEQN\"] == row[\"SEQN\"]][\"RIDAGEYR\"].values[0])\n",
    "    # In all the datasets, participants older than 80-85 years have their age \n",
    "    # set to 80 or 85 (you know you are old when it doesn't matter exactly how \n",
    "    # old you are other than REALLY OLD ;-) ). The upper cap depends on the year \n",
    "    # of the survey, with 85 years old for earlier years and 80 years old for more \n",
    "    # recent survey. To easily handle this difference in datasets, all respondents\n",
    "    # older than 80 have their age set to 80.\n",
    "    if age > 80:\n",
    "        age = 80\n",
    "    filtered_m_df.loc[index, \"AGE\"] = age\n",
    "# Make the values in the GENDER column integers. Probably not necessary, but\n",
    "# prettier to have it that way.\n",
    "filtered_m_df[\"GENDER\"] = filtered_m_df[\"GENDER\"].astype(int, copy=False)"
   ]
  },
  {
   "cell_type": "markdown",
   "metadata": {},
   "source": [
    "Save the filtered dataset in a <code>.csv</code> file, so that the filtering does not need to be repeated until new data is added to the NHANES survey (this could be done nicer by appending rows when data is added, which would save significant time, but that won't be necessary for this project)."
   ]
  },
  {
   "cell_type": "code",
   "execution_count": 8,
   "metadata": {
    "collapsed": true
   },
   "outputs": [],
   "source": [
    "filtered_m_df.to_csv(root_dir + \"results/filtered_NHANES_data.csv\", index=False)"
   ]
  }
 ],
 "metadata": {
  "kernelspec": {
   "display_name": "Python 3",
   "language": "python",
   "name": "python3"
  },
  "language_info": {
   "codemirror_mode": {
    "name": "ipython",
    "version": 3
   },
   "file_extension": ".py",
   "mimetype": "text/x-python",
   "name": "python",
   "nbconvert_exporter": "python",
   "pygments_lexer": "ipython3",
   "version": "3.5.2"
  }
 },
 "nbformat": 4,
 "nbformat_minor": 0
}
