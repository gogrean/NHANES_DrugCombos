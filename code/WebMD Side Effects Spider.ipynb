{
 "cells": [
  {
   "cell_type": "code",
   "execution_count": 1,
   "metadata": {
    "collapsed": false
   },
   "outputs": [
    {
     "name": "stderr",
     "output_type": "stream",
     "text": [
      ":0: UserWarning: You do not have a working installation of the service_identity module: 'cannot import name 'opentype''.  Please install it from <https://pypi.python.org/pypi/service_identity> and make sure all of its dependencies are satisfied.  Without the service_identity module, Twisted can perform only rudimentary TLS client hostname verification.  Many valid certificate/hostname mappings may be rejected.\n"
     ]
    }
   ],
   "source": [
    "import os\n",
    "import re\n",
    "import json\n",
    "\n",
    "import pandas as pd\n",
    "import scrapy\n",
    "from scrapy.crawler import CrawlerProcess"
   ]
  },
  {
   "cell_type": "code",
   "execution_count": 2,
   "metadata": {
    "collapsed": false
   },
   "outputs": [
    {
     "name": "stderr",
     "output_type": "stream",
     "text": [
      "2018-01-16 11:55:19 [scrapy.utils.log] INFO: Scrapy 1.5.0 started (bot: scrapybot)\n",
      "2018-01-16 11:55:19 [scrapy.utils.log] INFO: Versions: lxml 3.5.0.0, libxml2 2.9.2, cssselect 1.0.3, parsel 1.3.1, w3lib 1.18.0, Twisted 17.9.0, Python 3.5.2 |Anaconda custom (x86_64)| (default, Jul  2 2016, 17:52:12) - [GCC 4.2.1 Compatible Apple LLVM 4.2 (clang-425.0.28)], pyOpenSSL 17.0.0 (OpenSSL 1.0.2g  1 Mar 2016), cryptography 1.7.1, Platform Darwin-17.3.0-x86_64-i386-64bit\n",
      "2018-01-16 11:55:19 [scrapy.crawler] INFO: Overridden settings: {}\n",
      "2018-01-16 11:55:19 [scrapy.middleware] INFO: Enabled extensions:\n",
      "['scrapy.extensions.memusage.MemoryUsage',\n",
      " 'scrapy.extensions.telnet.TelnetConsole',\n",
      " 'scrapy.extensions.corestats.CoreStats',\n",
      " 'scrapy.extensions.logstats.LogStats']\n",
      "2018-01-16 11:55:19 [scrapy.middleware] INFO: Enabled downloader middlewares:\n",
      "['scrapy.downloadermiddlewares.httpauth.HttpAuthMiddleware',\n",
      " 'scrapy.downloadermiddlewares.downloadtimeout.DownloadTimeoutMiddleware',\n",
      " 'scrapy.downloadermiddlewares.defaultheaders.DefaultHeadersMiddleware',\n",
      " 'scrapy.downloadermiddlewares.useragent.UserAgentMiddleware',\n",
      " 'scrapy.downloadermiddlewares.retry.RetryMiddleware',\n",
      " 'scrapy.downloadermiddlewares.redirect.MetaRefreshMiddleware',\n",
      " 'scrapy.downloadermiddlewares.httpcompression.HttpCompressionMiddleware',\n",
      " 'scrapy.downloadermiddlewares.redirect.RedirectMiddleware',\n",
      " 'scrapy.downloadermiddlewares.cookies.CookiesMiddleware',\n",
      " 'scrapy.downloadermiddlewares.httpproxy.HttpProxyMiddleware',\n",
      " 'scrapy.downloadermiddlewares.stats.DownloaderStats']\n",
      "2018-01-16 11:55:19 [scrapy.middleware] INFO: Enabled spider middlewares:\n",
      "['scrapy.spidermiddlewares.httperror.HttpErrorMiddleware',\n",
      " 'scrapy.spidermiddlewares.offsite.OffsiteMiddleware',\n",
      " 'scrapy.spidermiddlewares.referer.RefererMiddleware',\n",
      " 'scrapy.spidermiddlewares.urllength.UrlLengthMiddleware',\n",
      " 'scrapy.spidermiddlewares.depth.DepthMiddleware']\n",
      "2018-01-16 11:55:19 [scrapy.middleware] INFO: Enabled item pipelines:\n",
      "[]\n",
      "2018-01-16 11:55:19 [scrapy.core.engine] INFO: Spider opened\n",
      "2018-01-16 11:55:19 [scrapy.extensions.logstats] INFO: Crawled 0 pages (at 0 pages/min), scraped 0 items (at 0 items/min)\n",
      "2018-01-16 11:55:19 [scrapy.extensions.telnet] DEBUG: Telnet console listening on 127.0.0.1:6023\n",
      "2018-01-16 11:55:19 [scrapy.core.engine] DEBUG: Crawled (200) <GET https://www.webmd.com/> (referer: None)\n",
      "2018-01-16 11:55:19 [scrapy.dupefilters] DEBUG: Filtered duplicate request: <GET https://www.webmd.com/drugs/2/alpha/v/va> - no more duplicates will be shown (see DUPEFILTER_DEBUG to show all duplicates)\n",
      "2018-01-16 11:55:20 [scrapy.core.engine] DEBUG: Crawled (200) <GET https://www.webmd.com/drugs/2/alpha/a/as> (referer: https://www.webmd.com/)\n",
      "2018-01-16 11:55:20 [scrapy.core.engine] DEBUG: Crawled (200) <GET https://www.webmd.com/drugs/2/alpha/s/sa> (referer: https://www.webmd.com/)\n",
      "2018-01-16 11:55:20 [scrapy.core.engine] DEBUG: Crawled (200) <GET https://www.webmd.com/drugs/2/alpha/t/tr> (referer: https://www.webmd.com/)\n",
      "2018-01-16 11:55:20 [scrapy.core.engine] DEBUG: Crawled (200) <GET https://www.webmd.com/drugs/2/alpha/l/li> (referer: https://www.webmd.com/)\n",
      "2018-01-16 11:55:20 [scrapy.core.engine] DEBUG: Crawled (200) <GET https://www.webmd.com/drugs/2/alpha/a/ab> (referer: https://www.webmd.com/)\n",
      "2018-01-16 11:55:20 [scrapy.core.engine] DEBUG: Crawled (200) <GET https://www.webmd.com/drugs/2/alpha/a/an> (referer: https://www.webmd.com/)\n",
      "2018-01-16 11:55:20 [scrapy.core.engine] DEBUG: Crawled (200) <GET https://www.webmd.com/drugs/2/alpha/e/et> (referer: https://www.webmd.com/)\n",
      "2018-01-16 11:55:20 [scrapy.core.engine] DEBUG: Crawled (200) <GET https://www.webmd.com/drugs/2/alpha/c/ce> (referer: https://www.webmd.com/)\n",
      "2018-01-16 11:55:20 [scrapy.core.engine] DEBUG: Crawled (200) <GET https://www.webmd.com/drugs/2/alpha/e/en> (referer: https://www.webmd.com/)\n",
      "2018-01-16 11:55:21 [scrapy.core.engine] DEBUG: Crawled (200) <GET https://www.webmd.com/drugs/2/alpha/e/el> (referer: https://www.webmd.com/)\n",
      "2018-01-16 11:55:21 [scrapy.core.engine] DEBUG: Crawled (200) <GET https://www.webmd.com/drugs/2/alpha/v/va> (referer: https://www.webmd.com/)\n",
      "2018-01-16 11:55:21 [scrapy.core.engine] DEBUG: Crawled (200) <GET https://www.webmd.com/drugs/2/alpha/t/th> (referer: https://www.webmd.com/)\n",
      "2018-01-16 11:55:21 [scrapy.core.engine] DEBUG: Crawled (200) <GET https://www.webmd.com/drugs/2/alpha/m/me> (referer: https://www.webmd.com/)\n",
      "2018-01-16 11:55:21 [scrapy.core.engine] DEBUG: Crawled (200) <GET https://www.webmd.com/drugs/2/alpha/b/br> (referer: https://www.webmd.com/)\n",
      "2018-01-16 11:55:21 [scrapy.core.engine] DEBUG: Crawled (200) <GET https://www.webmd.com/drugs/2/alpha/z/zy> (referer: https://www.webmd.com/)\n",
      "2018-01-16 11:55:21 [scrapy.core.engine] DEBUG: Crawled (200) <GET https://www.webmd.com/drugs/2/alpha/e/ed> (referer: https://www.webmd.com/)\n",
      "2018-01-16 11:55:21 [scrapy.core.engine] DEBUG: Crawled (200) <GET https://www.webmd.com/drugs/2/alpha/i/in> (referer: https://www.webmd.com/)\n",
      "2018-01-16 11:55:21 [scrapy.core.engine] DEBUG: Crawled (200) <GET https://www.webmd.com/drugs/2/alpha/s/so> (referer: https://www.webmd.com/)\n",
      "2018-01-16 11:55:21 [scrapy.core.engine] DEBUG: Crawled (200) <GET https://www.webmd.com/drugs/2/alpha/r/ro> (referer: https://www.webmd.com/)\n",
      "2018-01-16 11:55:21 [scrapy.downloadermiddlewares.redirect] DEBUG: Redirecting (301) to <GET https://www.webmd.com/drugs/2/drug-8603/celexa-oral/details> from <GET https://www.webmd.com/drugs/2/drug-8603-3047/celexa/details>\n",
      "2018-01-16 11:55:21 [scrapy.downloadermiddlewares.redirect] DEBUG: Redirecting (301) to <GET https://www.webmd.com/drugs/2/drug-1776/anafranil-oral/details> from <GET https://www.webmd.com/drugs/2/drug-1776-8047/anafranil/details>\n",
      "2018-01-16 11:55:21 [scrapy.downloadermiddlewares.redirect] DEBUG: Redirecting (301) to <GET https://www.webmd.com/drugs/2/drug-64439/abilify-oral/details> from <GET https://www.webmd.com/drugs/2/drug-64439-4274/abilify/details>\n",
      "2018-01-16 11:55:21 [scrapy.core.engine] DEBUG: Crawled (200) <GET https://www.webmd.com/drugs/2/alpha/d/do> (referer: https://www.webmd.com/)\n",
      "2018-01-16 11:55:21 [scrapy.core.engine] DEBUG: Crawled (200) <GET https://www.webmd.com/drugs/2/alpha/n/ne> (referer: https://www.webmd.com/)\n",
      "2018-01-16 11:55:21 [scrapy.core.engine] DEBUG: Crawled (200) <GET https://www.webmd.com/drugs/2/alpha/e/eq> (referer: https://www.webmd.com/)\n",
      "2018-01-16 11:55:21 [scrapy.core.engine] DEBUG: Crawled (200) <GET https://www.webmd.com/drugs/2/alpha/a/am> (referer: https://www.webmd.com/)\n",
      "2018-01-16 11:55:22 [scrapy.core.engine] DEBUG: Crawled (200) <GET https://www.webmd.com/drugs/2/alpha/m/mb> (referer: https://www.webmd.com/)\n",
      "2018-01-16 11:55:22 [scrapy.core.engine] DEBUG: Crawled (200) <GET https://www.webmd.com/drugs/2/alpha/h/hy> (referer: https://www.webmd.com/)\n",
      "2018-01-16 11:55:22 [scrapy.core.engine] DEBUG: Crawled (200) <GET https://www.webmd.com/drugs/2/drug-8603/celexa-oral/details> (referer: https://www.webmd.com/drugs/2/alpha/c/ce)\n",
      "2018-01-16 11:55:22 [scrapy.core.engine] DEBUG: Crawled (200) <GET https://www.webmd.com/drugs/2/alpha/a/at> (referer: https://www.webmd.com/)\n",
      "2018-01-16 11:55:22 [scrapy.downloadermiddlewares.redirect] DEBUG: Redirecting (301) to <GET https://www.webmd.com/drugs/2/drug-1699/zyprexa-oral/details> from <GET https://www.webmd.com/drugs/2/drug-1699-9274/zyprexa/details>\n",
      "2018-01-16 11:55:22 [scrapy.core.engine] DEBUG: Crawled (200) <GET https://www.webmd.com/drugs/2/alpha/d/da> (referer: https://www.webmd.com/)\n",
      "2018-01-16 11:55:22 [scrapy.core.engine] DEBUG: Crawled (200) <GET https://www.webmd.com/drugs/2/alpha/p/po> (referer: https://www.webmd.com/)\n",
      "2018-01-16 11:55:22 [scrapy.downloadermiddlewares.redirect] DEBUG: Redirecting (301) to <GET https://www.webmd.com/drugs/2/drug-94034/rozerem-oral/details> from <GET https://www.webmd.com/drugs/2/drug-94034-398/rozerem/details>\n",
      "2018-01-16 11:55:22 [scrapy.core.engine] DEBUG: Crawled (200) <GET https://www.webmd.com/drugs/2/alpha/s/si> (referer: https://www.webmd.com/)\n",
      "2018-01-16 11:55:22 [scrapy.core.engine] DEBUG: Crawled (200) <GET https://www.webmd.com/drugs/2/drug-1776/anafranil-oral/details> (referer: https://www.webmd.com/drugs/2/alpha/a/an)\n",
      "2018-01-16 11:55:22 [scrapy.core.engine] DEBUG: Crawled (200) <GET https://www.webmd.com/drugs/2/alpha/p/pl> (referer: https://www.webmd.com/)\n",
      "2018-01-16 11:55:22 [scrapy.core.engine] DEBUG: Crawled (200) <GET https://www.webmd.com/drugs/2/drug-64439/abilify-oral/details> (referer: https://www.webmd.com/drugs/2/alpha/a/ab)\n",
      "2018-01-16 11:55:22 [scrapy.downloadermiddlewares.redirect] DEBUG: Redirecting (301) to <GET https://www.webmd.com/drugs/2/drug-17532/sonata-oral/details> from <GET https://www.webmd.com/drugs/2/drug-17532-6110/sonata/details>\n",
      "2018-01-16 11:55:22 [scrapy.downloadermiddlewares.redirect] DEBUG: Redirecting (301) to <GET https://www.webmd.com/drugs/2/drug-164821/brisdelle-oral/details> from <GET https://www.webmd.com/drugs/2/drug-164821-1554/brisdelle/details>\n",
      "2018-01-16 11:55:22 [scrapy.downloadermiddlewares.redirect] DEBUG: Redirecting (301) to <GET https://www.webmd.com/drugs/2/drug-146745/invega-oral/details> from <GET https://www.webmd.com/drugs/2/drug-146745-882/invega/details>\n",
      "2018-01-16 11:55:22 [scrapy.core.engine] DEBUG: Crawled (200) <GET https://www.webmd.com/drugs/2/drug-1699/zyprexa-oral/details> (referer: https://www.webmd.com/drugs/2/alpha/z/zy)\n",
      "2018-01-16 11:55:22 [scrapy.core.engine] DEBUG: Crawled (200) <GET https://www.webmd.com/drugs/2/drug-94034/rozerem-oral/details> (referer: https://www.webmd.com/drugs/2/alpha/r/ro)\n",
      "2018-01-16 11:55:22 [scrapy.core.engine] DEBUG: Crawled (200) <GET https://www.webmd.com/drugs/2/alpha/b/bu> (referer: https://www.webmd.com/)\n",
      "2018-01-16 11:55:22 [scrapy.core.engine] DEBUG: Crawled (200) <GET https://www.webmd.com/drugs/2/alpha/m/mi> (referer: https://www.webmd.com/)\n",
      "2018-01-16 11:55:23 [scrapy.core.engine] DEBUG: Crawled (200) <GET https://www.webmd.com/drugs/2/alpha/e/ef> (referer: https://www.webmd.com/)\n",
      "2018-01-16 11:55:23 [scrapy.core.engine] DEBUG: Crawled (200) <GET https://www.webmd.com/drugs/2/drug-8603/celexa-oral/details/list-sideeffects> (referer: https://www.webmd.com/drugs/2/drug-8603/celexa-oral/details)\n",
      "2018-01-16 11:55:23 [scrapy.core.engine] DEBUG: Crawled (200) <GET https://www.webmd.com/drugs/2/alpha/g/ge> (referer: https://www.webmd.com/)\n",
      "2018-01-16 11:55:23 [scrapy.downloadermiddlewares.redirect] DEBUG: Redirecting (301) to <GET https://www.webmd.com/drugs/2/drug-9690/ambien-oral/details> from <GET https://www.webmd.com/drugs/2/drug-9690-8110/ambien/details>\n",
      "2018-01-16 11:55:23 [scrapy.core.engine] DEBUG: Crawled (200) <GET https://www.webmd.com/drugs/2/alpha/s/su> (referer: https://www.webmd.com/)\n",
      "2018-01-16 11:55:23 [scrapy.core.engine] DEBUG: Crawled (200) <GET https://www.webmd.com/drugs/2/alpha/s/st> (referer: https://www.webmd.com/)\n",
      "2018-01-16 11:55:23 [scrapy.core.engine] DEBUG: Crawled (200) <GET https://www.webmd.com/drugs/2/drug-17532/sonata-oral/details> (referer: https://www.webmd.com/drugs/2/alpha/s/so)\n",
      "2018-01-16 11:55:23 [scrapy.core.engine] DEBUG: Crawled (200) <GET https://www.webmd.com/drugs/2/alpha/o/ol> (referer: https://www.webmd.com/)\n",
      "2018-01-16 11:55:23 [scrapy.core.engine] DEBUG: Crawled (200) <GET https://www.webmd.com/drugs/2/drug-1699/zyprexa-oral/details/list-sideeffects> (referer: https://www.webmd.com/drugs/2/drug-1699/zyprexa-oral/details)\n"
     ]
    },
    {
     "name": "stdout",
     "output_type": "stream",
     "text": [
      "https://www.webmd.com/drugs/2/drug-8603/celexa-oral/details/list-sideeffects\n"
     ]
    },
    {
     "name": "stderr",
     "output_type": "stream",
     "text": [
      "2018-01-16 11:55:23 [scrapy.core.engine] DEBUG: Crawled (200) <GET https://www.webmd.com/drugs/2/alpha/x/xa> (referer: https://www.webmd.com/)\n",
      "2018-01-16 11:55:23 [scrapy.core.engine] DEBUG: Crawled (200) <GET https://www.webmd.com/drugs/2/drug-146745/invega-oral/details> (referer: https://www.webmd.com/drugs/2/alpha/i/in)\n",
      "2018-01-16 11:55:23 [scrapy.core.engine] DEBUG: Crawled (200) <GET https://www.webmd.com/drugs/2/alpha/n/ni> (referer: https://www.webmd.com/)\n",
      "2018-01-16 11:55:23 [scrapy.core.engine] DEBUG: Crawled (200) <GET https://www.webmd.com/drugs/2/drug-164821/brisdelle-oral/details> (referer: https://www.webmd.com/drugs/2/alpha/b/br)\n",
      "2018-01-16 11:55:23 [scrapy.core.engine] DEBUG: Crawled (200) <GET https://www.webmd.com/drugs/2/drug-1776/anafranil-oral/details/list-sideeffects> (referer: https://www.webmd.com/drugs/2/drug-1776/anafranil-oral/details)\n",
      "2018-01-16 11:55:23 [scrapy.core.engine] DEBUG: Crawled (200) <GET https://www.webmd.com/drugs/2/drug-94034/rozerem-oral/details/list-sideeffects> (referer: https://www.webmd.com/drugs/2/drug-94034/rozerem-oral/details)\n",
      "2018-01-16 11:55:23 [scrapy.downloadermiddlewares.redirect] DEBUG: Redirecting (301) to <GET https://www.webmd.com/drugs/2/drug-20575/geodon-oral/details> from <GET https://www.webmd.com/drugs/2/drug-20575-6274/geodon/details>\n",
      "2018-01-16 11:55:23 [scrapy.core.scraper] ERROR: Spider error processing <GET https://www.webmd.com/drugs/2/drug-1776/anafranil-oral/details/list-sideeffects> (referer: https://www.webmd.com/drugs/2/drug-1776/anafranil-oral/details)\n",
      "Traceback (most recent call last):\n",
      "  File \"/anaconda/lib/python3.5/site-packages/twisted/internet/defer.py\", line 653, in _runCallbacks\n",
      "    current.result = callback(current.result, *args, **kw)\n",
      "  File \"<ipython-input-2-b40d3e7b2de0>\", line 44, in parse_sideeffects\n",
      "    for s in sideeffects_lists[2*k_i+1]]\n",
      "IndexError: list index out of range\n",
      "2018-01-16 11:55:23 [scrapy.core.engine] DEBUG: Crawled (200) <GET https://www.webmd.com/drugs/2/drug-9690/ambien-oral/details> (referer: https://www.webmd.com/drugs/2/alpha/a/am)\n",
      "2018-01-16 11:55:23 [scrapy.core.scraper] ERROR: Spider error processing <GET https://www.webmd.com/drugs/2/drug-94034/rozerem-oral/details/list-sideeffects> (referer: https://www.webmd.com/drugs/2/drug-94034/rozerem-oral/details)\n",
      "Traceback (most recent call last):\n",
      "  File \"/anaconda/lib/python3.5/site-packages/twisted/internet/defer.py\", line 653, in _runCallbacks\n",
      "    current.result = callback(current.result, *args, **kw)\n",
      "  File \"<ipython-input-2-b40d3e7b2de0>\", line 44, in parse_sideeffects\n",
      "    for s in sideeffects_lists[2*k_i+1]]\n",
      "IndexError: list index out of range\n"
     ]
    },
    {
     "name": "stdout",
     "output_type": "stream",
     "text": [
      "https://www.webmd.com/drugs/2/drug-1699/zyprexa-oral/details/list-sideeffects\n",
      "https://www.webmd.com/drugs/2/drug-1776/anafranil-oral/details/list-sideeffects\n",
      "https://www.webmd.com/drugs/2/drug-94034/rozerem-oral/details/list-sideeffects\n"
     ]
    },
    {
     "name": "stderr",
     "output_type": "stream",
     "text": [
      "2018-01-16 11:55:23 [scrapy.core.engine] DEBUG: Crawled (200) <GET https://www.webmd.com/drugs/2/alpha/z/zo> (referer: https://www.webmd.com/)\n",
      "2018-01-16 11:55:23 [scrapy.core.engine] DEBUG: Crawled (200) <GET https://www.webmd.com/drugs/2/alpha/r/ri> (referer: https://www.webmd.com/)\n",
      "2018-01-16 11:55:23 [scrapy.downloadermiddlewares.redirect] DEBUG: Redirecting (301) to <GET https://www.webmd.com/drugs/2/drug-7031/surmontil-oral/details> from <GET https://www.webmd.com/drugs/2/drug-7031-531/surmontil/details>\n",
      "2018-01-16 11:55:24 [scrapy.core.engine] DEBUG: Crawled (200) <GET https://www.webmd.com/drugs/2/drug-64439/abilify-oral/details/list-sideeffects> (referer: https://www.webmd.com/drugs/2/drug-64439/abilify-oral/details)\n",
      "2018-01-16 11:55:24 [scrapy.core.engine] DEBUG: Crawled (200) <GET https://www.webmd.com/drugs/2/alpha/n/na> (referer: https://www.webmd.com/)\n",
      "2018-01-16 11:55:24 [scrapy.core.engine] DEBUG: Crawled (200) <GET https://www.webmd.com/drugs/2/alpha/o/or> (referer: https://www.webmd.com/)\n",
      "2018-01-16 11:55:24 [scrapy.core.engine] DEBUG: Crawled (200) <GET https://www.webmd.com/drugs/2/alpha/p/pa> (referer: https://www.webmd.com/)\n"
     ]
    },
    {
     "name": "stdout",
     "output_type": "stream",
     "text": [
      "https://www.webmd.com/drugs/2/drug-64439/abilify-oral/details/list-sideeffects\n"
     ]
    },
    {
     "name": "stderr",
     "output_type": "stream",
     "text": [
      "2018-01-16 11:55:24 [scrapy.core.engine] DEBUG: Crawled (200) <GET https://www.webmd.com/drugs/2/alpha/a/av> (referer: https://www.webmd.com/)\n",
      "2018-01-16 11:55:24 [scrapy.core.engine] DEBUG: Crawled (200) <GET https://www.webmd.com/drugs/2/alpha/m/mo> (referer: https://www.webmd.com/)\n",
      "2018-01-16 11:55:24 [scrapy.core.engine] DEBUG: Crawled (200) <GET https://www.webmd.com/drugs/2/drug-17532/sonata-oral/details/list-sideeffects> (referer: https://www.webmd.com/drugs/2/drug-17532/sonata-oral/details)\n",
      "2018-01-16 11:55:24 [scrapy.core.engine] DEBUG: Crawled (200) <GET https://www.webmd.com/drugs/2/alpha/r/re> (referer: https://www.webmd.com/)\n",
      "2018-01-16 11:55:24 [scrapy.core.scraper] ERROR: Spider error processing <GET https://www.webmd.com/drugs/2/drug-17532/sonata-oral/details/list-sideeffects> (referer: https://www.webmd.com/drugs/2/drug-17532/sonata-oral/details)\n",
      "Traceback (most recent call last):\n",
      "  File \"/anaconda/lib/python3.5/site-packages/twisted/internet/defer.py\", line 653, in _runCallbacks\n",
      "    current.result = callback(current.result, *args, **kw)\n",
      "  File \"<ipython-input-2-b40d3e7b2de0>\", line 44, in parse_sideeffects\n",
      "    for s in sideeffects_lists[2*k_i+1]]\n",
      "IndexError: list index out of range\n",
      "2018-01-16 11:55:24 [scrapy.core.engine] DEBUG: Crawled (200) <GET https://www.webmd.com/drugs/2/alpha/v/vi> (referer: https://www.webmd.com/)\n",
      "2018-01-16 11:55:24 [scrapy.core.engine] DEBUG: Crawled (200) <GET https://www.webmd.com/drugs/2/drug-20575/geodon-oral/details> (referer: https://www.webmd.com/drugs/2/alpha/g/ge)\n",
      "2018-01-16 11:55:24 [scrapy.core.engine] DEBUG: Crawled (200) <GET https://www.webmd.com/drugs/2/drug-164821/brisdelle-oral/details/list-sideeffects> (referer: https://www.webmd.com/drugs/2/drug-164821/brisdelle-oral/details)\n",
      "2018-01-16 11:55:24 [scrapy.core.engine] DEBUG: Crawled (200) <GET https://www.webmd.com/drugs/2/alpha/l/la> (referer: https://www.webmd.com/)\n"
     ]
    },
    {
     "name": "stdout",
     "output_type": "stream",
     "text": [
      "https://www.webmd.com/drugs/2/drug-17532/sonata-oral/details/list-sideeffects\n"
     ]
    },
    {
     "name": "stderr",
     "output_type": "stream",
     "text": [
      "2018-01-16 11:55:24 [scrapy.downloadermiddlewares.redirect] DEBUG: Redirecting (301) to <GET https://www.webmd.com/drugs/2/drug-35-8095/zoloft-oral/sertraline-oral/details> from <GET https://www.webmd.com/drugs/2/drug-35-8095/zoloft/details>\n",
      "2018-01-16 11:55:24 [scrapy.core.engine] DEBUG: Crawled (200) <GET https://www.webmd.com/drugs/2/alpha/l/lo> (referer: https://www.webmd.com/)\n",
      "2018-01-16 11:55:24 [scrapy.core.engine] DEBUG: Crawled (200) <GET https://www.webmd.com/drugs/2/drug-9690/ambien-oral/details/list-sideeffects> (referer: https://www.webmd.com/drugs/2/drug-9690/ambien-oral/details)\n",
      "2018-01-16 11:55:24 [scrapy.downloadermiddlewares.redirect] DEBUG: Redirecting (301) to <GET https://www.webmd.com/drugs/2/drug-9846/risperdal-oral/details> from <GET https://www.webmd.com/drugs/2/drug-9846-2034/risperdal/details>\n",
      "2018-01-16 11:55:24 [scrapy.core.scraper] ERROR: Spider error processing <GET https://www.webmd.com/drugs/2/drug-164821/brisdelle-oral/details/list-sideeffects> (referer: https://www.webmd.com/drugs/2/drug-164821/brisdelle-oral/details)\n",
      "Traceback (most recent call last):\n",
      "  File \"/anaconda/lib/python3.5/site-packages/twisted/internet/defer.py\", line 653, in _runCallbacks\n",
      "    current.result = callback(current.result, *args, **kw)\n",
      "  File \"<ipython-input-2-b40d3e7b2de0>\", line 44, in parse_sideeffects\n",
      "    for s in sideeffects_lists[2*k_i+1]]\n",
      "IndexError: list index out of range\n",
      "2018-01-16 11:55:25 [scrapy.core.scraper] ERROR: Spider error processing <GET https://www.webmd.com/drugs/2/drug-9690/ambien-oral/details/list-sideeffects> (referer: https://www.webmd.com/drugs/2/drug-9690/ambien-oral/details)\n",
      "Traceback (most recent call last):\n",
      "  File \"/anaconda/lib/python3.5/site-packages/twisted/internet/defer.py\", line 653, in _runCallbacks\n",
      "    current.result = callback(current.result, *args, **kw)\n",
      "  File \"<ipython-input-2-b40d3e7b2de0>\", line 44, in parse_sideeffects\n",
      "    for s in sideeffects_lists[2*k_i+1]]\n",
      "IndexError: list index out of range\n",
      "2018-01-16 11:55:25 [scrapy.core.engine] DEBUG: Crawled (200) <GET https://www.webmd.com/drugs/2/drug-7031/surmontil-oral/details> (referer: https://www.webmd.com/drugs/2/alpha/s/su)\n",
      "2018-01-16 11:55:25 [scrapy.downloadermiddlewares.redirect] DEBUG: Redirecting (301) to <GET https://www.webmd.com/drugs/2/drug-9824/xanax-oral/details> from <GET https://www.webmd.com/drugs/2/drug-9824-7244/xanax/details>\n"
     ]
    },
    {
     "name": "stdout",
     "output_type": "stream",
     "text": [
      "https://www.webmd.com/drugs/2/drug-164821/brisdelle-oral/details/list-sideeffects\n",
      "https://www.webmd.com/drugs/2/drug-9690/ambien-oral/details/list-sideeffects\n"
     ]
    },
    {
     "name": "stderr",
     "output_type": "stream",
     "text": [
      "2018-01-16 11:55:25 [scrapy.downloadermiddlewares.redirect] DEBUG: Redirecting (301) to <GET https://www.webmd.com/drugs/2/drug-1820/pamelor-oral/details> from <GET https://www.webmd.com/drugs/2/drug-1820-679/pamelor/details>\n",
      "2018-01-16 11:55:25 [scrapy.downloadermiddlewares.redirect] DEBUG: Redirecting (301) to <GET https://www.webmd.com/drugs/2/drug-11120/orap-oral/details> from <GET https://www.webmd.com/drugs/2/drug-11120-3034/orap/details>\n",
      "2018-01-16 11:55:25 [scrapy.downloadermiddlewares.redirect] DEBUG: Redirecting (301) to <GET https://www.webmd.com/drugs/2/drug-9353/nardil-oral/details> from <GET https://www.webmd.com/drugs/2/drug-9353-614/nardil/details>\n",
      "2018-01-16 11:55:25 [scrapy.core.engine] DEBUG: Crawled (200) <GET https://www.webmd.com/drugs/2/alpha/e/es> (referer: https://www.webmd.com/)\n",
      "2018-01-16 11:55:25 [scrapy.downloadermiddlewares.redirect] DEBUG: Redirecting (301) to <GET https://www.webmd.com/drugs/2/drug-20404/remeron-soltab-oral/details> from <GET https://www.webmd.com/drugs/2/drug-20404-2047/remeron/details>\n",
      "2018-01-16 11:55:25 [scrapy.core.engine] DEBUG: Crawled (200) <GET https://www.webmd.com/drugs/2/alpha/f/fe> (referer: https://www.webmd.com/)\n",
      "2018-01-16 11:55:25 [scrapy.core.engine] DEBUG: Crawled (200) <GET https://www.webmd.com/drugs/2/alpha/m/ma> (referer: https://www.webmd.com/)\n",
      "2018-01-16 11:55:25 [scrapy.core.engine] DEBUG: Crawled (200) <GET https://www.webmd.com/drugs/2/drug-9846/risperdal-oral/details> (referer: https://www.webmd.com/drugs/2/alpha/r/ri)\n",
      "2018-01-16 11:55:25 [scrapy.core.engine] DEBUG: Crawled (200) <GET https://www.webmd.com/drugs/2/drug-146745/invega-oral/details/list-sideeffects> (referer: https://www.webmd.com/drugs/2/drug-146745/invega-oral/details)\n",
      "2018-01-16 11:55:25 [scrapy.core.engine] DEBUG: Crawled (200) <GET https://www.webmd.com/drugs/2/alpha/t/to> (referer: https://www.webmd.com/)\n",
      "2018-01-16 11:55:25 [scrapy.core.engine] DEBUG: Crawled (200) <GET https://www.webmd.com/drugs/2/alpha/h/ha> (referer: https://www.webmd.com/)\n",
      "2018-01-16 11:55:25 [scrapy.downloadermiddlewares.redirect] DEBUG: Redirecting (301) to <GET https://www.webmd.com/drugs/2/drug-155134/latuda-oral/details> from <GET https://www.webmd.com/drugs/2/drug-155134-1379/latuda/details>\n",
      "2018-01-16 11:55:25 [scrapy.core.engine] DEBUG: Crawled (200) <GET https://www.webmd.com/drugs/2/drug-9824/xanax-oral/details> (referer: https://www.webmd.com/drugs/2/alpha/x/xa)\n"
     ]
    },
    {
     "name": "stdout",
     "output_type": "stream",
     "text": [
      "https://www.webmd.com/drugs/2/drug-146745/invega-oral/details/list-sideeffects\n"
     ]
    },
    {
     "name": "stderr",
     "output_type": "stream",
     "text": [
      "2018-01-16 11:55:26 [scrapy.core.engine] DEBUG: Crawled (200) <GET https://www.webmd.com/drugs/2/alpha/l/lu> (referer: https://www.webmd.com/)\n",
      "2018-01-16 11:55:26 [scrapy.core.engine] DEBUG: Crawled (200) <GET https://www.webmd.com/drugs/2/alpha/p/pe> (referer: https://www.webmd.com/)\n",
      "2018-01-16 11:55:26 [scrapy.core.engine] DEBUG: Crawled (200) <GET https://www.webmd.com/drugs/2/drug-9353/nardil-oral/details> (referer: https://www.webmd.com/drugs/2/alpha/n/na)\n",
      "2018-01-16 11:55:26 [scrapy.core.engine] DEBUG: Crawled (200) <GET https://www.webmd.com/drugs/2/drug-1820/pamelor-oral/details> (referer: https://www.webmd.com/drugs/2/alpha/p/pa)\n",
      "2018-01-16 11:55:26 [scrapy.core.engine] DEBUG: Crawled (200) <GET https://www.webmd.com/drugs/2/drug-20404/remeron-soltab-oral/details> (referer: https://www.webmd.com/drugs/2/alpha/r/re)\n",
      "2018-01-16 11:55:26 [scrapy.core.engine] DEBUG: Crawled (200) <GET https://www.webmd.com/drugs/2/drug-7031/surmontil-oral/details/list-sideeffects> (referer: https://www.webmd.com/drugs/2/drug-7031/surmontil-oral/details)\n",
      "2018-01-16 11:55:26 [scrapy.core.engine] DEBUG: Crawled (200) <GET https://www.webmd.com/drugs/2/drug-11120/orap-oral/details> (referer: https://www.webmd.com/drugs/2/alpha/o/or)\n",
      "2018-01-16 11:55:26 [scrapy.core.scraper] ERROR: Spider error processing <GET https://www.webmd.com/drugs/2/drug-7031/surmontil-oral/details/list-sideeffects> (referer: https://www.webmd.com/drugs/2/drug-7031/surmontil-oral/details)\n",
      "Traceback (most recent call last):\n",
      "  File \"/anaconda/lib/python3.5/site-packages/twisted/internet/defer.py\", line 653, in _runCallbacks\n",
      "    current.result = callback(current.result, *args, **kw)\n",
      "  File \"<ipython-input-2-b40d3e7b2de0>\", line 44, in parse_sideeffects\n",
      "    for s in sideeffects_lists[2*k_i+1]]\n",
      "IndexError: list index out of range\n",
      "2018-01-16 11:55:26 [scrapy.core.engine] DEBUG: Crawled (200) <GET https://www.webmd.com/drugs/2/drug-20575/geodon-oral/details/list-sideeffects> (referer: https://www.webmd.com/drugs/2/drug-20575/geodon-oral/details)\n",
      "2018-01-16 11:55:26 [scrapy.downloadermiddlewares.redirect] DEBUG: Redirecting (301) to <GET https://www.webmd.com/drugs/2/drug-11985/marplan-oral/details> from <GET https://www.webmd.com/drugs/2/drug-11985-45/marplan/details>\n",
      "2018-01-16 11:55:26 [scrapy.downloadermiddlewares.redirect] DEBUG: Redirecting (301) to <GET https://www.webmd.com/drugs/2/drug-165446/fetzima-oral/details> from <GET https://www.webmd.com/drugs/2/drug-165446-1577/fetzima/details>\n",
      "2018-01-16 11:55:26 [scrapy.core.engine] DEBUG: Crawled (200) <GET https://www.webmd.com/drugs/2/drug-155134/latuda-oral/details> (referer: https://www.webmd.com/drugs/2/alpha/l/la)\n"
     ]
    },
    {
     "name": "stdout",
     "output_type": "stream",
     "text": [
      "https://www.webmd.com/drugs/2/drug-7031/surmontil-oral/details/list-sideeffects\n",
      "https://www.webmd.com/drugs/2/drug-20575/geodon-oral/details/list-sideeffects\n"
     ]
    },
    {
     "name": "stderr",
     "output_type": "stream",
     "text": [
      "2018-01-16 11:55:26 [scrapy.downloadermiddlewares.redirect] DEBUG: Redirecting (301) to <GET https://www.webmd.com/drugs/2/drug-7047/tofranil-oral/details> from <GET https://www.webmd.com/drugs/2/drug-7047-574/tofranil/details>\n",
      "2018-01-16 11:55:26 [scrapy.core.engine] DEBUG: Crawled (200) <GET https://www.webmd.com/drugs/2/drug-9846/risperdal-oral/details/list-sideeffects> (referer: https://www.webmd.com/drugs/2/drug-9846/risperdal-oral/details)\n",
      "2018-01-16 11:55:26 [scrapy.core.engine] DEBUG: Crawled (200) <GET https://www.webmd.com/drugs/2/drug-9824/xanax-oral/details/list-sideeffects> (referer: https://www.webmd.com/drugs/2/drug-9824/xanax-oral/details)\n",
      "2018-01-16 11:55:26 [scrapy.core.engine] DEBUG: Crawled (200) <GET https://www.webmd.com/drugs/2/drug-35-8095/zoloft-oral/sertraline-oral/details> (referer: https://www.webmd.com/drugs/2/alpha/z/zo)\n",
      "2018-01-16 11:55:26 [scrapy.core.scraper] ERROR: Spider error processing <GET https://www.webmd.com/drugs/2/drug-9824/xanax-oral/details/list-sideeffects> (referer: https://www.webmd.com/drugs/2/drug-9824/xanax-oral/details)\n",
      "Traceback (most recent call last):\n",
      "  File \"/anaconda/lib/python3.5/site-packages/twisted/internet/defer.py\", line 653, in _runCallbacks\n",
      "    current.result = callback(current.result, *args, **kw)\n",
      "  File \"<ipython-input-2-b40d3e7b2de0>\", line 44, in parse_sideeffects\n",
      "    for s in sideeffects_lists[2*k_i+1]]\n",
      "IndexError: list index out of range\n",
      "2018-01-16 11:55:26 [scrapy.core.engine] DEBUG: Crawled (200) <GET https://www.webmd.com/drugs/2/alpha/s/se> (referer: https://www.webmd.com/)\n",
      "2018-01-16 11:55:26 [scrapy.core.engine] DEBUG: Crawled (200) <GET https://www.webmd.com/drugs/2/alpha/r/ra> (referer: https://www.webmd.com/)\n"
     ]
    },
    {
     "name": "stdout",
     "output_type": "stream",
     "text": [
      "https://www.webmd.com/drugs/2/drug-9846/risperdal-oral/details/list-sideeffects\n",
      "https://www.webmd.com/drugs/2/drug-9824/xanax-oral/details/list-sideeffects\n"
     ]
    },
    {
     "name": "stderr",
     "output_type": "stream",
     "text": [
      "2018-01-16 11:55:27 [scrapy.core.engine] DEBUG: Crawled (200) <GET https://www.webmd.com/drugs/2/drug-9353/nardil-oral/details/list-sideeffects> (referer: https://www.webmd.com/drugs/2/drug-9353/nardil-oral/details)\n",
      "2018-01-16 11:55:27 [scrapy.core.engine] DEBUG: Crawled (200) <GET https://www.webmd.com/drugs/2/alpha/l/le> (referer: https://www.webmd.com/)\n",
      "2018-01-16 11:55:27 [scrapy.core.engine] DEBUG: Crawled (200) <GET https://www.webmd.com/drugs/2/drug-11985/marplan-oral/details> (referer: https://www.webmd.com/drugs/2/alpha/m/ma)\n",
      "2018-01-16 11:55:27 [scrapy.core.engine] DEBUG: Crawled (200) <GET https://www.webmd.com/drugs/2/alpha/p/pr> (referer: https://www.webmd.com/)\n",
      "2018-01-16 11:55:27 [scrapy.core.engine] DEBUG: Crawled (200) <GET https://www.webmd.com/drugs/2/drug-20404/remeron-soltab-oral/details/list-sideeffects> (referer: https://www.webmd.com/drugs/2/drug-20404/remeron-soltab-oral/details)\n",
      "2018-01-16 11:55:27 [scrapy.core.engine] DEBUG: Crawled (200) <GET https://www.webmd.com/drugs/2/alpha/s/sy> (referer: https://www.webmd.com/)\n"
     ]
    },
    {
     "name": "stdout",
     "output_type": "stream",
     "text": [
      "https://www.webmd.com/drugs/2/drug-9353/nardil-oral/details/list-sideeffects\n"
     ]
    },
    {
     "name": "stderr",
     "output_type": "stream",
     "text": [
      "2018-01-16 11:55:27 [scrapy.core.scraper] ERROR: Spider error processing <GET https://www.webmd.com/drugs/2/drug-20404/remeron-soltab-oral/details/list-sideeffects> (referer: https://www.webmd.com/drugs/2/drug-20404/remeron-soltab-oral/details)\n",
      "Traceback (most recent call last):\n",
      "  File \"/anaconda/lib/python3.5/site-packages/twisted/internet/defer.py\", line 653, in _runCallbacks\n",
      "    current.result = callback(current.result, *args, **kw)\n",
      "  File \"<ipython-input-2-b40d3e7b2de0>\", line 44, in parse_sideeffects\n",
      "    for s in sideeffects_lists[2*k_i+1]]\n",
      "IndexError: list index out of range\n",
      "2018-01-16 11:55:27 [scrapy.core.engine] DEBUG: Crawled (200) <GET https://www.webmd.com/drugs/2/drug-11120/orap-oral/details/list-sideeffects> (referer: https://www.webmd.com/drugs/2/drug-11120/orap-oral/details)\n",
      "2018-01-16 11:55:27 [scrapy.core.engine] DEBUG: Crawled (200) <GET https://www.webmd.com/drugs/2/drug-165446/fetzima-oral/details> (referer: https://www.webmd.com/drugs/2/alpha/f/fe)\n",
      "2018-01-16 11:55:27 [scrapy.core.engine] DEBUG: Crawled (200) <GET https://www.webmd.com/drugs/2/alpha/i/ir> (referer: https://www.webmd.com/)\n",
      "2018-01-16 11:55:27 [scrapy.core.engine] DEBUG: Crawled (200) <GET https://www.webmd.com/drugs/2/alpha/c/cy> (referer: https://www.webmd.com/)\n",
      "2018-01-16 11:55:27 [scrapy.core.engine] DEBUG: Crawled (200) <GET https://www.webmd.com/drugs/2/drug-155134/latuda-oral/details/list-sideeffects> (referer: https://www.webmd.com/drugs/2/drug-155134/latuda-oral/details)\n"
     ]
    },
    {
     "name": "stdout",
     "output_type": "stream",
     "text": [
      "https://www.webmd.com/drugs/2/drug-20404/remeron-soltab-oral/details/list-sideeffects\n",
      "https://www.webmd.com/drugs/2/drug-11120/orap-oral/details/list-sideeffects\n"
     ]
    },
    {
     "name": "stderr",
     "output_type": "stream",
     "text": [
      "2018-01-16 11:55:27 [scrapy.core.engine] DEBUG: Crawled (200) <GET https://www.webmd.com/drugs/2/drug-35-8095/zoloft-oral/sertraline-oral/details/list-sideeffects> (referer: https://www.webmd.com/drugs/2/drug-35-8095/zoloft-oral/sertraline-oral/details)\n",
      "2018-01-16 11:55:27 [scrapy.core.scraper] ERROR: Spider error processing <GET https://www.webmd.com/drugs/2/drug-35-8095/zoloft-oral/sertraline-oral/details/list-sideeffects> (referer: https://www.webmd.com/drugs/2/drug-35-8095/zoloft-oral/sertraline-oral/details)\n",
      "Traceback (most recent call last):\n",
      "  File \"/anaconda/lib/python3.5/site-packages/twisted/internet/defer.py\", line 653, in _runCallbacks\n",
      "    current.result = callback(current.result, *args, **kw)\n",
      "  File \"<ipython-input-2-b40d3e7b2de0>\", line 44, in parse_sideeffects\n",
      "    for s in sideeffects_lists[2*k_i+1]]\n",
      "IndexError: list index out of range\n",
      "2018-01-16 11:55:27 [scrapy.core.engine] DEBUG: Crawled (200) <GET https://www.webmd.com/drugs/2/alpha/k/kh> (referer: https://www.webmd.com/)\n",
      "2018-01-16 11:55:27 [scrapy.core.engine] DEBUG: Crawled (200) <GET https://www.webmd.com/drugs/2/drug-7047/tofranil-oral/details> (referer: https://www.webmd.com/drugs/2/alpha/t/to)\n"
     ]
    },
    {
     "name": "stdout",
     "output_type": "stream",
     "text": [
      "https://www.webmd.com/drugs/2/drug-155134/latuda-oral/details/list-sideeffects\n",
      "https://www.webmd.com/drugs/2/drug-35-8095/zoloft-oral/sertraline-oral/details/list-sideeffects\n"
     ]
    },
    {
     "name": "stderr",
     "output_type": "stream",
     "text": [
      "2018-01-16 11:55:27 [scrapy.core.engine] DEBUG: Crawled (200) <GET https://www.webmd.com/drugs/2/alpha/z/za> (referer: https://www.webmd.com/)\n",
      "2018-01-16 11:55:27 [scrapy.core.engine] DEBUG: Crawled (200) <GET https://www.webmd.com/drugs/2/alpha/n/no> (referer: https://www.webmd.com/)\n",
      "2018-01-16 11:55:27 [scrapy.core.engine] DEBUG: Crawled (200) <GET https://www.webmd.com/drugs/2/alpha/d/de> (referer: https://www.webmd.com/)\n",
      "2018-01-16 11:55:27 [scrapy.core.engine] DEBUG: Crawled (200) <GET https://www.webmd.com/drugs/2/alpha/v/ve> (referer: https://www.webmd.com/)\n",
      "2018-01-16 11:55:28 [scrapy.downloadermiddlewares.redirect] DEBUG: Redirecting (301) to <GET https://www.webmd.com/drugs/2/drug-78212/symbyax-oral/details> from <GET https://www.webmd.com/drugs/2/drug-78212-1274/symbyax/details>\n",
      "2018-01-16 11:55:28 [scrapy.downloadermiddlewares.redirect] DEBUG: Redirecting (301) to <GET https://www.webmd.com/drugs/2/drug-63990/lexapro-oral/details> from <GET https://www.webmd.com/drugs/2/drug-63990-2095/lexapro/details>\n",
      "2018-01-16 11:55:28 [scrapy.core.engine] DEBUG: Crawled (200) <GET https://www.webmd.com/drugs/2/drug-11985/marplan-oral/details/list-sideeffects> (referer: https://www.webmd.com/drugs/2/drug-11985/marplan-oral/details)\n",
      "2018-01-16 11:55:28 [scrapy.core.engine] DEBUG: Crawled (200) <GET https://www.webmd.com/drugs/2/drug-1820/pamelor-oral/details/list-sideeffects> (referer: https://www.webmd.com/drugs/2/drug-1820/pamelor-oral/details)\n",
      "2018-01-16 11:55:28 [scrapy.downloadermiddlewares.redirect] DEBUG: Redirecting (301) to <GET https://www.webmd.com/drugs/2/drug-168839/irenka-oral/details> from <GET https://www.webmd.com/drugs/2/drug-168839-404/irenka/details>\n",
      "2018-01-16 11:55:28 [scrapy.core.engine] DEBUG: Crawled (200) <GET https://www.webmd.com/drugs/2/alpha/f/fa> (referer: https://www.webmd.com/)\n",
      "2018-01-16 11:55:28 [scrapy.core.engine] DEBUG: Crawled (200) <GET https://www.webmd.com/drugs/2/drug-165446/fetzima-oral/details/list-sideeffects> (referer: https://www.webmd.com/drugs/2/drug-165446/fetzima-oral/details)\n",
      "2018-01-16 11:55:28 [scrapy.downloadermiddlewares.redirect] DEBUG: Redirecting (301) to <GET https://www.webmd.com/drugs/2/drug-91491/cymbalta-oral/details> from <GET https://www.webmd.com/drugs/2/drug-91491-404/cymbalta/details>\n",
      "2018-01-16 11:55:28 [scrapy.core.scraper] ERROR: Spider error processing <GET https://www.webmd.com/drugs/2/drug-1820/pamelor-oral/details/list-sideeffects> (referer: https://www.webmd.com/drugs/2/drug-1820/pamelor-oral/details)\n",
      "Traceback (most recent call last):\n",
      "  File \"/anaconda/lib/python3.5/site-packages/twisted/internet/defer.py\", line 653, in _runCallbacks\n",
      "    current.result = callback(current.result, *args, **kw)\n",
      "  File \"<ipython-input-2-b40d3e7b2de0>\", line 44, in parse_sideeffects\n",
      "    for s in sideeffects_lists[2*k_i+1]]\n",
      "IndexError: list index out of range\n",
      "2018-01-16 11:55:28 [scrapy.downloadermiddlewares.redirect] DEBUG: Redirecting (301) to <GET https://www.webmd.com/drugs/2/drug-164859/khedezla-oral/details> from <GET https://www.webmd.com/drugs/2/drug-164859-1090/khedezla/details>\n",
      "2018-01-16 11:55:28 [scrapy.core.engine] DEBUG: Crawled (200) <GET https://www.webmd.com/drugs/2/alpha/c/cl> (referer: https://www.webmd.com/)\n",
      "2018-01-16 11:55:28 [scrapy.downloadermiddlewares.redirect] DEBUG: Redirecting (301) to <GET https://www.webmd.com/drugs/2/drug-6936/norpramin-oral/details> from <GET https://www.webmd.com/drugs/2/drug-6936-578/norpramin/details>\n",
      "2018-01-16 11:55:28 [scrapy.core.scraper] ERROR: Spider error processing <GET https://www.webmd.com/drugs/2/drug-165446/fetzima-oral/details/list-sideeffects> (referer: https://www.webmd.com/drugs/2/drug-165446/fetzima-oral/details)\n",
      "Traceback (most recent call last):\n",
      "  File \"/anaconda/lib/python3.5/site-packages/twisted/internet/defer.py\", line 653, in _runCallbacks\n",
      "    current.result = callback(current.result, *args, **kw)\n",
      "  File \"<ipython-input-2-b40d3e7b2de0>\", line 42, in parse_sideeffects\n",
      "    for s in sideeffects_lists[2*k_i]]\n",
      "IndexError: list index out of range\n",
      "2018-01-16 11:55:28 [scrapy.core.engine] DEBUG: Crawled (200) <GET https://www.webmd.com/drugs/2/drug-63990/lexapro-oral/details> (referer: https://www.webmd.com/drugs/2/alpha/l/le)\n"
     ]
    },
    {
     "name": "stdout",
     "output_type": "stream",
     "text": [
      "https://www.webmd.com/drugs/2/drug-11985/marplan-oral/details/list-sideeffects\n",
      "https://www.webmd.com/drugs/2/drug-1820/pamelor-oral/details/list-sideeffects\n",
      "https://www.webmd.com/drugs/2/drug-165446/fetzima-oral/details/list-sideeffects\n"
     ]
    },
    {
     "name": "stderr",
     "output_type": "stream",
     "text": [
      "2018-01-16 11:55:28 [scrapy.core.engine] DEBUG: Crawled (200) <GET https://www.webmd.com/drugs/2/drug-7047/tofranil-oral/details/list-sideeffects> (referer: https://www.webmd.com/drugs/2/drug-7047/tofranil-oral/details)\n",
      "2018-01-16 11:55:28 [scrapy.core.engine] DEBUG: Crawled (200) <GET https://www.webmd.com/drugs/2/drug-78212/symbyax-oral/details> (referer: https://www.webmd.com/drugs/2/alpha/s/sy)\n",
      "2018-01-16 11:55:28 [scrapy.core.engine] DEBUG: Crawled (200) <GET https://www.webmd.com/drugs/2/drug-168839/irenka-oral/details> (referer: https://www.webmd.com/drugs/2/alpha/i/ir)\n",
      "2018-01-16 11:55:28 [scrapy.downloadermiddlewares.redirect] DEBUG: Redirecting (301) to <GET https://www.webmd.com/drugs/2/drug-165442/versacloz-oral/details> from <GET https://www.webmd.com/drugs/2/drug-165442-7034/versacloz/details>\n",
      "2018-01-16 11:55:28 [scrapy.downloadermiddlewares.redirect] DEBUG: Redirecting (301) to <GET https://www.webmd.com/drugs/2/drug-150251/pristiq-oral/details> from <GET https://www.webmd.com/drugs/2/drug-150251-1090/pristiq/details>\n",
      "2018-01-16 11:55:28 [scrapy.core.engine] DEBUG: Crawled (200) <GET https://www.webmd.com/drugs/2/drug-91491/cymbalta-oral/details> (referer: https://www.webmd.com/drugs/2/alpha/c/cy)\n",
      "2018-01-16 11:55:28 [scrapy.core.engine] DEBUG: Crawled (200) <GET https://www.webmd.com/drugs/2/drug-164859/khedezla-oral/details> (referer: https://www.webmd.com/drugs/2/alpha/k/kh)\n",
      "2018-01-16 11:55:28 [scrapy.core.scraper] ERROR: Spider error processing <GET https://www.webmd.com/drugs/2/drug-7047/tofranil-oral/details/list-sideeffects> (referer: https://www.webmd.com/drugs/2/drug-7047/tofranil-oral/details)\n",
      "Traceback (most recent call last):\n",
      "  File \"/anaconda/lib/python3.5/site-packages/twisted/internet/defer.py\", line 653, in _runCallbacks\n",
      "    current.result = callback(current.result, *args, **kw)\n",
      "  File \"<ipython-input-2-b40d3e7b2de0>\", line 44, in parse_sideeffects\n",
      "    for s in sideeffects_lists[2*k_i+1]]\n",
      "IndexError: list index out of range\n",
      "2018-01-16 11:55:28 [scrapy.core.engine] DEBUG: Crawled (200) <GET https://www.webmd.com/drugs/2/drug-150251/pristiq-oral/details> (referer: https://www.webmd.com/drugs/2/alpha/p/pr)\n"
     ]
    },
    {
     "name": "stdout",
     "output_type": "stream",
     "text": [
      "https://www.webmd.com/drugs/2/drug-7047/tofranil-oral/details/list-sideeffects\n"
     ]
    },
    {
     "name": "stderr",
     "output_type": "stream",
     "text": [
      "2018-01-16 11:55:28 [scrapy.core.engine] DEBUG: Crawled (200) <GET https://www.webmd.com/drugs/2/drug-165442/versacloz-oral/details> (referer: https://www.webmd.com/drugs/2/alpha/v/ve)\n",
      "2018-01-16 11:55:28 [scrapy.core.engine] DEBUG: Crawled (200) <GET https://www.webmd.com/drugs/2/drug-63990/lexapro-oral/details/list-sideeffects> (referer: https://www.webmd.com/drugs/2/drug-63990/lexapro-oral/details)\n",
      "2018-01-16 11:55:28 [scrapy.core.engine] DEBUG: Crawled (200) <GET https://www.webmd.com/drugs/2/drug-6936/norpramin-oral/details> (referer: https://www.webmd.com/drugs/2/alpha/n/no)\n",
      "2018-01-16 11:55:28 [scrapy.downloadermiddlewares.redirect] DEBUG: Redirecting (301) to <GET https://www.webmd.com/drugs/2/drug-89420/fazaclo-oral/details> from <GET https://www.webmd.com/drugs/2/drug-89420-7034/fazaclo/details>\n",
      "2018-01-16 11:55:28 [scrapy.downloadermiddlewares.redirect] DEBUG: Redirecting (301) to <GET https://www.webmd.com/drugs/2/drug-5194/clozaril-oral/details> from <GET https://www.webmd.com/drugs/2/drug-5194-7034/clozaril/details>\n",
      "2018-01-16 11:55:28 [scrapy.core.engine] DEBUG: Crawled (200) <GET https://www.webmd.com/drugs/2/drug-164859/khedezla-oral/details/list-sideeffects> (referer: https://www.webmd.com/drugs/2/drug-164859/khedezla-oral/details)\n",
      "2018-01-16 11:55:28 [scrapy.core.engine] DEBUG: Crawled (200) <GET https://www.webmd.com/drugs/2/drug-78212/symbyax-oral/details/list-sideeffects> (referer: https://www.webmd.com/drugs/2/drug-78212/symbyax-oral/details)\n",
      "2018-01-16 11:55:28 [scrapy.core.scraper] ERROR: Spider error processing <GET https://www.webmd.com/drugs/2/drug-63990/lexapro-oral/details/list-sideeffects> (referer: https://www.webmd.com/drugs/2/drug-63990/lexapro-oral/details)\n",
      "Traceback (most recent call last):\n",
      "  File \"/anaconda/lib/python3.5/site-packages/twisted/internet/defer.py\", line 653, in _runCallbacks\n",
      "    current.result = callback(current.result, *args, **kw)\n",
      "  File \"<ipython-input-2-b40d3e7b2de0>\", line 42, in parse_sideeffects\n",
      "    for s in sideeffects_lists[2*k_i]]\n",
      "IndexError: list index out of range\n",
      "2018-01-16 11:55:28 [scrapy.core.engine] DEBUG: Crawled (200) <GET https://www.webmd.com/drugs/2/drug-91491/cymbalta-oral/details/list-sideeffects> (referer: https://www.webmd.com/drugs/2/drug-91491/cymbalta-oral/details)\n",
      "2018-01-16 11:55:28 [scrapy.core.engine] DEBUG: Crawled (200) <GET https://www.webmd.com/drugs/2/drug-150251/pristiq-oral/details/list-sideeffects> (referer: https://www.webmd.com/drugs/2/drug-150251/pristiq-oral/details)\n",
      "2018-01-16 11:55:29 [scrapy.core.engine] DEBUG: Crawled (200) <GET https://www.webmd.com/drugs/2/drug-168839/irenka-oral/details/list-sideeffects> (referer: https://www.webmd.com/drugs/2/drug-168839/irenka-oral/details)\n",
      "2018-01-16 11:55:29 [scrapy.core.scraper] ERROR: Spider error processing <GET https://www.webmd.com/drugs/2/drug-91491/cymbalta-oral/details/list-sideeffects> (referer: https://www.webmd.com/drugs/2/drug-91491/cymbalta-oral/details)\n",
      "Traceback (most recent call last):\n",
      "  File \"/anaconda/lib/python3.5/site-packages/twisted/internet/defer.py\", line 653, in _runCallbacks\n",
      "    current.result = callback(current.result, *args, **kw)\n",
      "  File \"<ipython-input-2-b40d3e7b2de0>\", line 44, in parse_sideeffects\n",
      "    for s in sideeffects_lists[2*k_i+1]]\n",
      "IndexError: list index out of range\n",
      "2018-01-16 11:55:29 [scrapy.core.engine] DEBUG: Crawled (200) <GET https://www.webmd.com/drugs/2/drug-165442/versacloz-oral/details/list-sideeffects> (referer: https://www.webmd.com/drugs/2/drug-165442/versacloz-oral/details)\n"
     ]
    },
    {
     "name": "stdout",
     "output_type": "stream",
     "text": [
      "https://www.webmd.com/drugs/2/drug-63990/lexapro-oral/details/list-sideeffects\n",
      "https://www.webmd.com/drugs/2/drug-164859/khedezla-oral/details/list-sideeffects\n",
      "https://www.webmd.com/drugs/2/drug-78212/symbyax-oral/details/list-sideeffects\n",
      "https://www.webmd.com/drugs/2/drug-91491/cymbalta-oral/details/list-sideeffects\n",
      "https://www.webmd.com/drugs/2/drug-150251/pristiq-oral/details/list-sideeffects\n"
     ]
    },
    {
     "name": "stderr",
     "output_type": "stream",
     "text": [
      "2018-01-16 11:55:29 [scrapy.core.engine] DEBUG: Crawled (200) <GET https://www.webmd.com/drugs/2/drug-5194/clozaril-oral/details> (referer: https://www.webmd.com/drugs/2/alpha/c/cl)\n",
      "2018-01-16 11:55:29 [scrapy.core.engine] DEBUG: Crawled (200) <GET https://www.webmd.com/drugs/2/drug-6936/norpramin-oral/details/list-sideeffects> (referer: https://www.webmd.com/drugs/2/drug-6936/norpramin-oral/details)\n",
      "2018-01-16 11:55:29 [scrapy.core.scraper] ERROR: Spider error processing <GET https://www.webmd.com/drugs/2/drug-168839/irenka-oral/details/list-sideeffects> (referer: https://www.webmd.com/drugs/2/drug-168839/irenka-oral/details)\n",
      "Traceback (most recent call last):\n",
      "  File \"/anaconda/lib/python3.5/site-packages/twisted/internet/defer.py\", line 653, in _runCallbacks\n",
      "    current.result = callback(current.result, *args, **kw)\n",
      "  File \"<ipython-input-2-b40d3e7b2de0>\", line 44, in parse_sideeffects\n",
      "    for s in sideeffects_lists[2*k_i+1]]\n",
      "IndexError: list index out of range\n",
      "2018-01-16 11:55:29 [scrapy.core.engine] DEBUG: Crawled (200) <GET https://www.webmd.com/drugs/2/drug-89420/fazaclo-oral/details> (referer: https://www.webmd.com/drugs/2/alpha/f/fa)\n",
      "2018-01-16 11:55:29 [scrapy.core.scraper] ERROR: Spider error processing <GET https://www.webmd.com/drugs/2/drug-6936/norpramin-oral/details/list-sideeffects> (referer: https://www.webmd.com/drugs/2/drug-6936/norpramin-oral/details)\n",
      "Traceback (most recent call last):\n",
      "  File \"/anaconda/lib/python3.5/site-packages/twisted/internet/defer.py\", line 653, in _runCallbacks\n",
      "    current.result = callback(current.result, *args, **kw)\n",
      "  File \"<ipython-input-2-b40d3e7b2de0>\", line 44, in parse_sideeffects\n",
      "    for s in sideeffects_lists[2*k_i+1]]\n",
      "IndexError: list index out of range\n"
     ]
    },
    {
     "name": "stdout",
     "output_type": "stream",
     "text": [
      "https://www.webmd.com/drugs/2/drug-168839/irenka-oral/details/list-sideeffects\n",
      "https://www.webmd.com/drugs/2/drug-165442/versacloz-oral/details/list-sideeffects\n",
      "https://www.webmd.com/drugs/2/drug-6936/norpramin-oral/details/list-sideeffects\n"
     ]
    },
    {
     "name": "stderr",
     "output_type": "stream",
     "text": [
      "2018-01-16 11:55:29 [scrapy.core.engine] DEBUG: Crawled (200) <GET https://www.webmd.com/drugs/2/drug-5194/clozaril-oral/details/list-sideeffects> (referer: https://www.webmd.com/drugs/2/drug-5194/clozaril-oral/details)\n"
     ]
    },
    {
     "name": "stdout",
     "output_type": "stream",
     "text": [
      "https://www.webmd.com/drugs/2/drug-5194/clozaril-oral/details/list-sideeffects\n"
     ]
    },
    {
     "name": "stderr",
     "output_type": "stream",
     "text": [
      "2018-01-16 11:55:29 [scrapy.core.engine] DEBUG: Crawled (200) <GET https://www.webmd.com/drugs/2/drug-89420/fazaclo-oral/details/list-sideeffects> (referer: https://www.webmd.com/drugs/2/drug-89420/fazaclo-oral/details)\n",
      "2018-01-16 11:55:30 [scrapy.core.engine] INFO: Closing spider (finished)\n",
      "2018-01-16 11:55:30 [scrapy.statscollectors] INFO: Dumping Scrapy stats:\n",
      "{'downloader/request_bytes': 80840,\n",
      " 'downloader/request_count': 168,\n",
      " 'downloader/request_method_count/GET': 168,\n",
      " 'downloader/response_bytes': 3273670,\n",
      " 'downloader/response_count': 168,\n",
      " 'downloader/response_status_count/200': 136,\n",
      " 'downloader/response_status_count/301': 32,\n",
      " 'dupefilter/filtered': 83,\n",
      " 'finish_reason': 'finished',\n",
      " 'finish_time': datetime.datetime(2018, 1, 16, 19, 55, 30, 70649),\n",
      " 'log_count/DEBUG': 170,\n",
      " 'log_count/ERROR': 16,\n",
      " 'log_count/INFO': 7,\n",
      " 'memusage/max': 148758528,\n",
      " 'memusage/startup': 148754432,\n",
      " 'request_depth_max': 3,\n",
      " 'response_received_count': 136,\n",
      " 'scheduler/dequeued': 168,\n",
      " 'scheduler/dequeued/memory': 168,\n",
      " 'scheduler/enqueued': 168,\n",
      " 'scheduler/enqueued/memory': 168,\n",
      " 'spider_exceptions/IndexError': 16,\n",
      " 'start_time': datetime.datetime(2018, 1, 16, 19, 55, 19, 515817)}\n",
      "2018-01-16 11:55:30 [scrapy.core.engine] INFO: Spider closed (finished)\n"
     ]
    },
    {
     "name": "stdout",
     "output_type": "stream",
     "text": [
      "https://www.webmd.com/drugs/2/drug-89420/fazaclo-oral/details/list-sideeffects\n"
     ]
    }
   ],
   "source": [
    "webmd_url = \"https://www.webmd.com/\"\n",
    "\n",
    "class SideEffectsSpider(scrapy.Spider):\n",
    "    os.chdir(\"/Users/gogrean/Documents/Insight_Fellowship/Research/Mental_Health/NHANES_Survey/data\")\n",
    "    name = \"sideeffects\"\n",
    "    start_urls = [\n",
    "        webmd_url,\n",
    "    ]\n",
    "    \n",
    "    def parse(self, response):\n",
    "        meds_df = pd.read_csv(\"brand_to_generic_drug_names.csv\")\n",
    "        meds = [m.lower() for m in list(meds_df[\"Brand Name\"].values)]\n",
    "        for med in meds:\n",
    "            list_link = response.urljoin(\"/drugs/2/alpha/\" + med[0] + \"/\" + med[0:2])\n",
    "            yield scrapy.Request(list_link, callback=self.parse_list, meta = {'drug' : med})\n",
    "    \n",
    "    def parse_list(self, response):\n",
    "        med = response.meta['drug']\n",
    "        css_selector = 'div[class=\"drug-list-container\"] a[href*=\"/' + med + '/\"]'\n",
    "        med_details_link = response.css(css_selector).css(\"a::attr(href)\").extract_first()  \n",
    "        yield scrapy.Request(response.urljoin(med_details_link), \n",
    "                             callback=self.parse_med, meta = {'drug' : med})\n",
    "        \n",
    "    def parse_med(self, response):\n",
    "        med = response.meta['drug']\n",
    "        css_selector = 'a[data-metrics-link=\"sidef\"]'\n",
    "        med_sideeffects_link = response.css(css_selector).css(\"a::attr(href)\").extract_first()\n",
    "        yield scrapy.Request(response.urljoin(med_sideeffects_link), \n",
    "                             callback=self.parse_sideeffects, meta = {'drug' : med})\n",
    "    \n",
    "    def parse_sideeffects(self, response):\n",
    "        med = response.meta['drug']\n",
    "        resp = response.css('div[class=\"drug-submonograph-sideeffects\"] ul')\n",
    "        sideeffects_lists = [r.css('li').extract() for r in resp]\n",
    "        sideeffects = {'common': {}, \n",
    "                       'infrequent': {},\n",
    "                       'rare': {}\n",
    "                      }\n",
    "        for k_i, k in enumerate(['common', 'infrequent', 'rare']):\n",
    "            sideeffects[k]['severe'] = [re.search(\"\\<li\\>(.*)\\<\\/li\\>\", s).group(1).strip().lower()\n",
    "                                        for s in sideeffects_lists[2*k_i]]\n",
    "            sideeffects[k]['less severe'] = [re.search(\"\\<li\\>(.*)\\<\\/li\\>\", s).group(1).strip().lower()\n",
    "                                             for s in sideeffects_lists[2*k_i+1]]\n",
    "        fname = \"side_effects/\" + med + \"-sideeffects.json\"\n",
    "        with open(fname, 'w') as f:\n",
    "            json.dump(sideeffects, f)\n",
    "        \n",
    "\n",
    "process = CrawlerProcess()\n",
    "\n",
    "process.crawl(SideEffectsSpider)\n",
    "process.start()"
   ]
  }
 ],
 "metadata": {
  "kernelspec": {
   "display_name": "Python 3",
   "language": "python",
   "name": "python3"
  },
  "language_info": {
   "codemirror_mode": {
    "name": "ipython",
    "version": 3
   },
   "file_extension": ".py",
   "mimetype": "text/x-python",
   "name": "python",
   "nbconvert_exporter": "python",
   "pygments_lexer": "ipython3",
   "version": "3.5.2"
  }
 },
 "nbformat": 4,
 "nbformat_minor": 0
}
