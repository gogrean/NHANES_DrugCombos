{
 "cells": [
  {
   "cell_type": "markdown",
   "metadata": {},
   "source": [
    "## Identify Most Common Drugs"
   ]
  },
  {
   "cell_type": "markdown",
   "metadata": {},
   "source": [
    "This notebook calculates the maximum match percentage between a user's psychotropic drug combo and the psychotropic drug combos of the participants in the NHANES Survey. Based on the maximum match percentage, it selects the survey participants with whom a best match was identified. The user will select a few medication categories that they want to be considered (up to a total of 18) in determining the most common additional drugs that participants on similar psychotropic drug combos take. For each category selected by the user, they will see the most common medications in this category that users taking (almost) the same psychotropic drug combo also take."
   ]
  },
  {
   "cell_type": "code",
   "execution_count": 13,
   "metadata": {
    "collapsed": true
   },
   "outputs": [],
   "source": [
    "import os\n",
    "import pandas as pd\n",
    "import operator"
   ]
  },
  {
   "cell_type": "markdown",
   "metadata": {},
   "source": [
    "Read some test case from the <code>test\\_cases</code> directory."
   ]
  },
  {
   "cell_type": "code",
   "execution_count": 2,
   "metadata": {
    "collapsed": false
   },
   "outputs": [],
   "source": [
    "root_dir = \"/Users/gogrean/Documents/Insight_Fellowship/Research/Mental_Health/NHANES_Survey/\"\n",
    "test_case_dir = root_dir + \"test_cases/\"\n",
    "os.chdir(test_case_dir)\n",
    "\n",
    "test_case = \"medcombo_tc3.txt\"\n",
    "case_name = test_case[:-4]"
   ]
  },
  {
   "cell_type": "markdown",
   "metadata": {},
   "source": [
    "The user can choose to further restrict the match to include only people within 5 years of the user's age or only people of the same gender. \n",
    "\n",
    "A dictionary is created to store the user's data (age, gender, meds taken, categories of medications they are interested in, match preferences)."
   ]
  },
  {
   "cell_type": "code",
   "execution_count": 3,
   "metadata": {
    "collapsed": false
   },
   "outputs": [],
   "source": [
    "user = {}\n",
    "user[case_name] = {'age': -1, 'gender': -1, 'meds': []}\n",
    "with open(test_case) as f:\n",
    "    user[case_name]['age'] = float(f.readline().strip())\n",
    "    user[case_name]['gender'] = int(f.readline().strip())\n",
    "    user[case_name]['meds'] = [m.strip().lower() for m in f.readlines()]\n",
    "    user[case_name]['match by age'] = True\n",
    "    user[case_name]['match by gender'] = False\n",
    "    user[case_name]['drug categories'] = [x.lower() \n",
    "                                          for x in ['CENTRAL NERVOUS SYSTEM AGENTS', 'ANTI-INFECTIVES',\n",
    "                                                    'Psychotherapeutic Agents']]"
   ]
  },
  {
   "cell_type": "code",
   "execution_count": 4,
   "metadata": {
    "collapsed": false
   },
   "outputs": [
    {
     "data": {
      "text/plain": [
       "{'medcombo_tc3': {'age': 51.0,\n",
       "  'drug categories': ['central nervous system agents',\n",
       "   'anti-infectives',\n",
       "   'psychotherapeutic agents'],\n",
       "  'gender': 1,\n",
       "  'match by age': True,\n",
       "  'match by gender': False,\n",
       "  'meds': ['tranylcypromine', 'sertraline', 'alprazolam']}}"
      ]
     },
     "execution_count": 4,
     "metadata": {},
     "output_type": "execute_result"
    }
   ],
   "source": [
    "# good to know how the data looks like, eh?\n",
    "user"
   ]
  },
  {
   "cell_type": "markdown",
   "metadata": {},
   "source": [
    "Go through the NHANES Survey and calculate the maximum psychotropic drug combo match percentage between the user and the survey participants. Store the SEQNs of the participants who best match with the user."
   ]
  },
  {
   "cell_type": "code",
   "execution_count": 5,
   "metadata": {
    "collapsed": false
   },
   "outputs": [],
   "source": [
    "results_dir = root_dir + \"results/\"\n",
    "os.chdir(results_dir)\n",
    "\n",
    "m_df = pd.read_csv(\"filtered_NHANES_data.csv\")"
   ]
  },
  {
   "cell_type": "code",
   "execution_count": 6,
   "metadata": {
    "collapsed": false
   },
   "outputs": [],
   "source": [
    "similar_seqn = []\n",
    "max_n_meds_in_common = 0\n",
    "\n",
    "for seqn in m_df[\"SEQN\"].unique():\n",
    "    # select rows in the dataframe corresponding to the survey\n",
    "    # participant with the current SEQN\n",
    "    seqn_data = m_df[m_df[\"SEQN\"] == seqn]\n",
    "    # get the age and the gender of the survey participant\n",
    "    # TODO: This assumes the age/gender is not incorrectly entered \n",
    "    # in the database, so it should be the same in all the cells\n",
    "    # in which the SEQN value is the same. Could figure out a \n",
    "    # way to deal with incorrect entries, e.g. choose the value that\n",
    "    # appears most often, assuming there are more than two medications\n",
    "    # and the correct values dominate?\n",
    "    seqn_age = float(seqn_data[\"AGE\"].values[0])\n",
    "    seqn_gender = float(seqn_data[\"GENDER\"].values[0])\n",
    "    \n",
    "    # if match_by_age is True and the survey participant with\n",
    "    # the current SEQN is too old or too young compared to the \n",
    "    # user, then move on to the next survey participant\n",
    "    if user[case_name]['match by age']:\n",
    "        if (seqn_age > user[case_name]['age'] + 5) or (seqn_age < user[case_name]['age'] - 5):\n",
    "            continue\n",
    "            \n",
    "    # if match_by_gender is True and the gender of the survey\n",
    "    # participant with the current SEQN does not match the \n",
    "    # gender of the user, move on to the next survey participant\n",
    "    if user[case_name]['match by gender']:\n",
    "        if gender != user[case_name]['gender']:\n",
    "            continue\n",
    "    \n",
    "    # get the list of drugs taken by the survey participant with\n",
    "    # the current SEQN (drug names in lowercase for easier match)\n",
    "    seqn_meds = set(seqn_data[\"RXDDRUG\"].str.lower())\n",
    "    \n",
    "    # Get the list of common medications taken by the survey participant\n",
    "    # and by the user. Only selects psychotropic medications in common, \n",
    "    # as the user only inputs psychotropic drugs.\n",
    "    meds_in_common = seqn_meds.intersection(set(user[case_name]['meds']))\n",
    "    \n",
    "    # Calculate the number of common psychotropic meds and, if \n",
    "    # necessary, update the maximum number. If a new maximum is found,\n",
    "    # the list of survey participants with whom the user has the highest\n",
    "    # match percentage is re-initiated. If the number of psychotropic \n",
    "    # drugs taken in common by the user and the survey participant with \n",
    "    # the current SEQN equals the maximum, the SEQN is added to the list\n",
    "    # of survey participants with whom the user has the highest match percentage.\n",
    "    n_meds_in_common = len(meds_in_common)\n",
    "    if n_meds_in_common > max_n_meds_in_common:\n",
    "        max_n_meds_in_common = n_meds_in_common\n",
    "        similar_seqn = [seqn]\n",
    "    elif n_meds_in_common == max_n_meds_in_common:\n",
    "        similar_seqn.append(seqn)\n",
    "\n",
    "max_match_percentage = max_n_meds_in_common / len(user[case_name]['meds']) * 100."
   ]
  },
  {
   "cell_type": "markdown",
   "metadata": {},
   "source": [
    "Read the drug information database to determine the categories of all the drugs taken by survey respondents included in <code>similar_seqn</code>."
   ]
  },
  {
   "cell_type": "code",
   "execution_count": 7,
   "metadata": {
    "collapsed": true
   },
   "outputs": [],
   "source": [
    "data_dir = root_dir + \"data/\"\n",
    "os.chdir(data_dir)\n",
    "\n",
    "cols = [\"RXDDRGID\", \"RXDDRUG\", \"RXDDCN1A\", \"RXDDCN1B\", \"RXDDCN1C\"]\n",
    "med_info = pd.read_csv(\"RXQ_DRUG.csv\", usecols=cols, \n",
    "                       error_bad_lines=False, warn_bad_lines=False)"
   ]
  },
  {
   "cell_type": "markdown",
   "metadata": {},
   "source": [
    "Drug frequency for the survey participants having the best match percentage with the user will be stored in a dictionary (called <code>meds</code>) indexed by the name of the drug category. Only categories that the user is interested in will be used. \n",
    "\n",
    "For each survey participant who (almost) matches the user, the code identifies all the medications taken by the participant based on the RXDDRGID keyword. Using this keyword, the drug category names are read from the drug information database. For each drug, if its category is among the categories that the user is interested in, the drug name and the frequency of its occurence are stored in the <code>meds</code> dictionary."
   ]
  },
  {
   "cell_type": "code",
   "execution_count": 8,
   "metadata": {
    "collapsed": false
   },
   "outputs": [],
   "source": [
    "meds = {}\n",
    "for category in user[case_name]['drug categories']:\n",
    "    meds[category] = {}\n",
    "for seqn in similar_seqn:\n",
    "    seqn_data = m_df[m_df[\"SEQN\"] == seqn]\n",
    "    seqn_med_ids = set( [(x, y) \n",
    "                         for x, y in zip(list(seqn_data[\"RXDDRGID\"].values), list(seqn_data[\"RXDDRUG\"].values))] )\n",
    "    for med_id, med_name in seqn_med_ids:\n",
    "        med_id_cat = med_info[med_info[\"RXDDRGID\"] == med_id][\"RXDDCN1A\"].str.lower().values[0]\n",
    "        if med_id_cat in user[case_name]['drug categories']:\n",
    "            meds[med_id_cat].setdefault(med_name, 0)\n",
    "            meds[med_id_cat][med_name] += 1"
   ]
  },
  {
   "cell_type": "markdown",
   "metadata": {},
   "source": [
    "The <code>meds</code> dictionary stores the number of times each medication occurs. However, this is dependent on the number of survey participants who have a best match percentage with the user. Therefore, the code converts this number to a frequency (percentage)."
   ]
  },
  {
   "cell_type": "code",
   "execution_count": 9,
   "metadata": {
    "collapsed": false
   },
   "outputs": [],
   "source": [
    "for category in user[case_name]['drug categories']:\n",
    "    for med in meds[category]:\n",
    "        meds[category][med] /= len(similar_seqn) / 100."
   ]
  },
  {
   "cell_type": "markdown",
   "metadata": {},
   "source": [
    "Print the results. \n",
    "\n",
    "TODO: Super temporary way of doing this, until I figure out the app..."
   ]
  },
  {
   "cell_type": "code",
   "execution_count": 35,
   "metadata": {
    "collapsed": false
   },
   "outputs": [
    {
     "name": "stdout",
     "output_type": "stream",
     "text": [
      "WARNING: Only 5 or fewer survey participants use a similar combination of psychotropic drugs!\n",
      "\n",
      "5 participants in the NHANES survey were found to use 2 of the 3 psychotropic drugs selected.\n",
      "\n",
      "\n",
      "PSYCHOTHERAPEUTIC AGENTS\n",
      "     SERTRALINE     100.0\n",
      "     ZIPRASIDONE     20.0\n",
      "\n",
      "\n",
      "ANTI-INFECTIVES\n",
      "     DOXYCYCLINE     20.0\n",
      "\n",
      "\n",
      "CENTRAL NERVOUS SYSTEM AGENTS\n",
      "     ALPRAZOLAM     100.0\n",
      "     ACETAMINOPHEN; HYDROCODONE     40.0\n",
      "     CARISOPRODOL     40.0\n",
      "     ACETAMINOPHEN; PROPOXYPHENE     20.0\n",
      "     BACLOFEN     20.0\n",
      "     CYCLOBENZAPRINE     20.0\n",
      "     DICLOFENAC     20.0\n",
      "     DICLOFENAC; MISOPROSTOL     20.0\n",
      "     DOXEPIN     20.0\n",
      "     ESZOPICLONE     20.0\n",
      "     PRAMIPEXOLE     20.0\n",
      "     PROPOXYPHENE     20.0\n",
      "     TRAMADOL     20.0\n",
      "\n",
      "\n"
     ]
    }
   ],
   "source": [
    "if len(similar_seqn) <= 5:\n",
    "    print(\"WARNING: Only 5 or fewer survey participants use a similar combination of psychotropic drugs!\\n\")\n",
    "    \n",
    "print(\"%i participants in the NHANES survey were found to use %i of the %i psychotropic drugs selected.\\n\\n\" \n",
    "      %(len(similar_seqn), max_n_meds_in_common, len(user[case_name]['meds'])))\n",
    "\n",
    "for category in meds:\n",
    "    print(category.upper())\n",
    "    sorted_meds_alphabetical = sorted(meds[category].items(), \n",
    "                             key=operator.itemgetter(0))\n",
    "    sorted_meds = sorted(sorted_meds_alphabetical, \n",
    "                         key=operator.itemgetter(1), \n",
    "                         reverse=True)\n",
    "    for med_name, p in sorted_meds:\n",
    "        print('     %s     %.1f' %(med_name.upper(), p))\n",
    "    print(\"\\n\")"
   ]
  }
 ],
 "metadata": {
  "kernelspec": {
   "display_name": "Python 3",
   "language": "python",
   "name": "python3"
  },
  "language_info": {
   "codemirror_mode": {
    "name": "ipython",
    "version": 3
   },
   "file_extension": ".py",
   "mimetype": "text/x-python",
   "name": "python",
   "nbconvert_exporter": "python",
   "pygments_lexer": "ipython3",
   "version": "3.5.2"
  }
 },
 "nbformat": 4,
 "nbformat_minor": 0
}
