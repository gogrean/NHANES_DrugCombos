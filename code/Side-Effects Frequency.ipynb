{
 "cells": [
  {
   "cell_type": "code",
   "execution_count": 17,
   "metadata": {
    "collapsed": true
   },
   "outputs": [],
   "source": [
    "import os\n",
    "import collections\n",
    "from operator import itemgetter\n",
    "import json\n",
    "\n",
    "import pandas as pd\n",
    "\n",
    "root_dir = \"/Users/gogrean/Documents/Insight_Fellowship/Research/Mental_Health/NHANES_Survey/\"\n",
    "os.chdir(root_dir + \"data/\")"
   ]
  },
  {
   "cell_type": "code",
   "execution_count": 18,
   "metadata": {
    "collapsed": false
   },
   "outputs": [],
   "source": [
    "with open(\"false_side_effects.txt\", 'r') as f:\n",
    "    false_side_effects = [se.strip() for se in f.readlines()]\n",
    "    \n",
    "with open(\"equivalent_side_effects.txt\", 'r') as f:\n",
    "    equivalent_side_effects = [tuple(eq_se.strip().split(\", \")) for eq_se in f.readlines()]"
   ]
  },
  {
   "cell_type": "code",
   "execution_count": 19,
   "metadata": {
    "collapsed": false
   },
   "outputs": [],
   "source": [
    "df_fda_adverse_effects = pd.read_csv(\"filtered_fda_drug_reports.csv\", header=0)\n",
    "df_meds = pd.read_csv(\"brand_to_generic_drug_names.csv\", header=0)"
   ]
  },
  {
   "cell_type": "code",
   "execution_count": 20,
   "metadata": {
    "collapsed": false
   },
   "outputs": [],
   "source": [
    "os.chdir(root_dir + \"data/side_effects/\")\n",
    "for m in df_meds['Generic Name']:\n",
    "    df_m = df_fda_adverse_effects[df_fda_adverse_effects['simple_name'].str.lower() == m.lower()]\n",
    "    m_side_effects = [y.lower() for x in df_m['adverse_effects'].str.split(\"; \") for y in x]\n",
    "    counter=collections.Counter(m_side_effects)\n",
    "    side_effects_raw = [(eff, p/sum(counter.values())*100.) for eff, p in counter.items()]\n",
    "    side_effects = [(se, p) for (se, p) in side_effects_raw \n",
    "                    if se not in false_side_effects]\n",
    "    for eq_se in equivalent_side_effects:\n",
    "        if set(eq_se).intersection(false_side_effects):\n",
    "            continue\n",
    "        to_remove = []\n",
    "        temp_perc = 0\n",
    "        for se in eq_se:\n",
    "            if se in [s[0] for s in side_effects]:\n",
    "                i = [s[0] for s in side_effects].index(se)\n",
    "                temp_perc += side_effects[i][1]\n",
    "                to_remove.append(side_effects[i])\n",
    "        side_effects += [(eq_se[0], temp_perc)]\n",
    "        for removable in to_remove:\n",
    "            side_effects.remove(removable)\n",
    "    side_effects.sort(key=itemgetter(1), reverse=True)\n",
    "    side_effects = [(s[0].title(), s[1]) for s in side_effects]\n",
    "    with open(m.lower().replace(\"; \", \"_\") + \".json\", 'w') as f:\n",
    "        json.dump(side_effects, f)"
   ]
  }
 ],
 "metadata": {
  "kernelspec": {
   "display_name": "Python 3",
   "language": "python",
   "name": "python3"
  },
  "language_info": {
   "codemirror_mode": {
    "name": "ipython",
    "version": 3
   },
   "file_extension": ".py",
   "mimetype": "text/x-python",
   "name": "python",
   "nbconvert_exporter": "python",
   "pygments_lexer": "ipython3",
   "version": "3.5.2"
  }
 },
 "nbformat": 4,
 "nbformat_minor": 0
}
